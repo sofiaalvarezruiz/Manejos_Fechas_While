{
  "nbformat": 4,
  "nbformat_minor": 0,
  "metadata": {
    "colab": {
      "provenance": [],
      "include_colab_link": true
    },
    "kernelspec": {
      "name": "python3",
      "display_name": "Python 3"
    },
    "language_info": {
      "name": "python"
    }
  },
  "cells": [
    {
      "cell_type": "markdown",
      "metadata": {
        "id": "view-in-github",
        "colab_type": "text"
      },
      "source": [
        "<a href=\"https://colab.research.google.com/github/sofiaalvarezruiz/Manejos_Fechas_While/blob/main/8_08_2025.ipynb\" target=\"_parent\"><img src=\"https://colab.research.google.com/assets/colab-badge.svg\" alt=\"Open In Colab\"/></a>"
      ]
    },
    {
      "cell_type": "code",
      "execution_count": null,
      "metadata": {
        "colab": {
          "base_uri": "https://localhost:8080/"
        },
        "id": "TUuiogM7KWbx",
        "outputId": "d877012e-789d-4e3a-bd61-8f61fec5fcd5"
      },
      "outputs": [
        {
          "output_type": "stream",
          "name": "stdout",
          "text": [
            "0\n",
            "1\n",
            "2\n",
            "3\n",
            "4\n",
            "5\n",
            "6\n",
            "7\n",
            "8\n",
            "9\n",
            "Tiempo transcurrido while: 0.00022912025451660156\n",
            "0\n",
            "1\n",
            "2\n",
            "3\n",
            "4\n",
            "5\n",
            "6\n",
            "7\n",
            "8\n",
            "9\n",
            "Tiempo transcurrido for: 0.00010609626770019531\n",
            "el sistema operativo es otro win 64\n"
          ]
        }
      ],
      "source": [
        "#  ciclo while\n",
        "import time\n",
        "import os # manejo de sistemas operativo\n",
        "import sys # liberia de manejo de sistemas comando bat\n",
        "# este algoritmo lo que hace es medir el tiempo de ejecucion de un ciclo while y un ciclo for\n",
        "# para ver cual es mas rapido\n",
        "inicio= time.time()# tiempo de ejecucion  esta capturando el tiempo\n",
        "contador =0 # contador\n",
        "while contador < 10: # controlando el ciclo, es decir repitiendo hasta que\n",
        "# se cumpla la condicion\n",
        "    print(contador) # imprime el valor que tiene el contador\n",
        "    #por cada rotacion del ciclo\n",
        "    contador += 1# incrementa el contador\n",
        "fin= time.time()# toma el tiempo que finalizo en contador\n",
        "print(\"Tiempo transcurrido while:\", fin-inicio)\n",
        "inicio= time.time()# tiempo de ejecucion\n",
        "for contador in range(10):\n",
        "    print(contador)\n",
        "fin= time.time()\n",
        "print(\"Tiempo transcurrido for:\", fin-inicio)\n",
        "if sys.platform == \"win32\":\n",
        "    print (\"el sistemas operativo win 32\")\n",
        "    os.system('cls')\n",
        "else:\n",
        "    print(\"el sistema operativo es otro win 64\")\n",
        "    os.system('clear')"
      ]
    },
    {
      "cell_type": "code",
      "source": [
        "# manejo de fecha\n",
        "from  datetime import datetime as dt # esta libreria puede servir para captura de fechas\n",
        "#dt es abrviacion de datetime\n",
        "fecha = dt.now()# esta capturando la fecha actual\n",
        "print(\"fecha actual \", fecha)"
      ],
      "metadata": {
        "colab": {
          "base_uri": "https://localhost:8080/"
        },
        "id": "iMqpmj1LOWhz",
        "outputId": "de18897a-b04d-49dc-cb20-914fd4a9898d"
      },
      "execution_count": null,
      "outputs": [
        {
          "output_type": "stream",
          "name": "stdout",
          "text": [
            "fecha actual  2025-08-08 20:57:44.528270\n"
          ]
        }
      ]
    },
    {
      "cell_type": "markdown",
      "source": [
        "https://docs.python.org/3/library/datetime.html"
      ],
      "metadata": {
        "id": "HQqm90LPmoql"
      }
    },
    {
      "cell_type": "code",
      "source": [
        "from datetime import datetime as dt\n",
        "fecha = dt.now()\n",
        "# generar un formato personalizado dia mes y año\n",
        "print(fecha.strftime(\"%d/%m/%Y\"))\n",
        "# %d dia\n",
        "#%m mes\n",
        "# Y año\n",
        "# formato texto o nombre del  de la fecha\n",
        "# %A estod dicioendo el nombre del dia ejemplo HOy es vernes, muestra viernes\n",
        "# %B es el nombre del mes ejemplo AGOSTO\n",
        "print(fecha.strftime(\"%A,%d de %B de %Y\" ))\n",
        "print(fecha.strftime(\"%H:%M:%S\"))\n",
        "\n"
      ],
      "metadata": {
        "colab": {
          "base_uri": "https://localhost:8080/"
        },
        "id": "_u_jq26tlv68",
        "outputId": "3ec75f50-6a80-4eff-e962-08dae48b92dd"
      },
      "execution_count": null,
      "outputs": [
        {
          "output_type": "stream",
          "name": "stdout",
          "text": [
            "08/08/2025\n",
            "Friday,08 de August de 2025\n",
            "20:57:44\n"
          ]
        }
      ]
    },
    {
      "cell_type": "markdown",
      "source": [
        "controlar cicloc on breck y  booleanos"
      ],
      "metadata": {
        "id": "s36zB2YoqNqw"
      }
    },
    {
      "cell_type": "code",
      "source": [
        "\"\"\" vamos hacer un progarama que se detenga cuando cumpla\n",
        "10 repeticiones  pero el mietras inicia e TRUE, cuado\n",
        "se cumpla la codicion deb detener el programa\"\"\"\n",
        "contador = 1\n",
        "while True:\n",
        "  if contador == 10:\n",
        "    print(f\"{contador} se cumplio la cantidad de repeticiones\" )\n",
        "    break\n",
        "\n",
        "  contador+= 1\n",
        "\n"
      ],
      "metadata": {
        "colab": {
          "base_uri": "https://localhost:8080/"
        },
        "id": "V1QqMI_8qSoX",
        "outputId": "b375dede-68a7-4fbb-80a8-5e6fb99d4b9b"
      },
      "execution_count": null,
      "outputs": [
        {
          "output_type": "stream",
          "name": "stdout",
          "text": [
            "10 se cumplio la cantidad de repeticiones\n"
          ]
        }
      ]
    },
    {
      "cell_type": "code",
      "source": [
        "palabra = input(\"Ingrese una palabra: \")\n",
        "palabraMayuscula = palabra.upper()\n",
        "print(palabraMayuscula)\n",
        "palabraMinuscula = palabra.lower()\n",
        "print(palabraMinuscula)"
      ],
      "metadata": {
        "colab": {
          "base_uri": "https://localhost:8080/"
        },
        "id": "s7gLIzWKuilG",
        "outputId": "48519310-175d-4b86-9153-b32dd8a2830e"
      },
      "execution_count": null,
      "outputs": [
        {
          "output_type": "stream",
          "name": "stdout",
          "text": [
            "Ingrese una palabra: hola\n",
            "HOLA\n",
            "hola\n"
          ]
        }
      ]
    },
    {
      "cell_type": "code",
      "source": [
        "# https://docs.python.org/es/3.13/library/stdtypes.html#bytearray.lower\n",
        "\n",
        "palabra='Hola mundO'\n",
        "palabra.title()\n",
        "print(palabra)\n"
      ],
      "metadata": {
        "colab": {
          "base_uri": "https://localhost:8080/"
        },
        "id": "4ZMduhRZvdfk",
        "outputId": "b7be8b31-7e53-4060-e6c2-f0926db856f1"
      },
      "execution_count": null,
      "outputs": [
        {
          "output_type": "stream",
          "name": "stdout",
          "text": [
            "Hola mundO\n"
          ]
        }
      ]
    },
    {
      "cell_type": "markdown",
      "source": [
        "https://mimo.org/glossary/python/datetime"
      ],
      "metadata": {
        "id": "O3gcyA8sm8g_"
      }
    }
  ]
}